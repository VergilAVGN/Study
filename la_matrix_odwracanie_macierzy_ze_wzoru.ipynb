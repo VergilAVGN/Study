{
  "cells": [
    {
      "cell_type": "markdown",
      "metadata": {
        "id": "view-in-github",
        "colab_type": "text"
      },
      "source": [
        "<a href=\"https://colab.research.google.com/github/VergilAVGN/Study/blob/main/la_matrix_odwracanie_macierzy_ze_wzoru.ipynb\" target=\"_parent\"><img src=\"https://colab.research.google.com/assets/colab-badge.svg\" alt=\"Open In Colab\"/></a>"
      ]
    },
    {
      "cell_type": "markdown",
      "metadata": {
        "id": "y4mFWM13TXId"
      },
      "source": [
        "# Odwracanie macierzy\n",
        "\n",
        "Macierz odwrotna do macierzy $A$ to taka macierz $A^{-1}$, że $A \\cdot A^{-1} = A^{-1} \\cdot A = I$, gdzie $I$ to macierz jednostkowa."
      ]
    },
    {
      "cell_type": "markdown",
      "metadata": {
        "id": "-M_uwQ4hTXIe"
      },
      "source": [
        "**Przykład 1:**"
      ]
    },
    {
      "cell_type": "code",
      "execution_count": null,
      "metadata": {
        "colab": {
          "base_uri": "https://localhost:8080/",
          "height": 78
        },
        "id": "2-HeoAPzTXIf",
        "outputId": "16e3b0c8-bd7b-491c-c8de-522972acf841"
      },
      "outputs": [
        {
          "output_type": "execute_result",
          "data": {
            "text/plain": [
              "Matrix([\n",
              "[2, 1, 2],\n",
              "[5, 3, 1],\n",
              "[1, 1, 5]])"
            ],
            "text/latex": "$\\displaystyle \\left[\\begin{matrix}2 & 1 & 2\\\\5 & 3 & 1\\\\1 & 1 & 5\\end{matrix}\\right]$"
          },
          "metadata": {},
          "execution_count": 1
        }
      ],
      "source": [
        "import sympy as sp #import sympy library\n",
        "k1=sp.Matrix([[2, 1, 2], [5, 3, 1],[1, 1, 5]]) #stwórz macierz k1\n",
        "k1"
      ]
    },
    {
      "cell_type": "code",
      "execution_count": null,
      "metadata": {
        "colab": {
          "base_uri": "https://localhost:8080/",
          "height": 78
        },
        "id": "4hKRSa-QTXIg",
        "outputId": "b37e035b-2987-461a-a15c-8d2a4b518d7b"
      },
      "outputs": [
        {
          "output_type": "execute_result",
          "data": {
            "text/plain": [
              "Matrix([\n",
              "[7/4, -3/8, -5/8],\n",
              "[ -3,    1,    1],\n",
              "[1/4, -1/8,  1/8]])"
            ],
            "text/latex": "$\\displaystyle \\left[\\begin{matrix}\\frac{7}{4} & - \\frac{3}{8} & - \\frac{5}{8}\\\\-3 & 1 & 1\\\\\\frac{1}{4} & - \\frac{1}{8} & \\frac{1}{8}\\end{matrix}\\right]$"
          },
          "metadata": {},
          "execution_count": 2
        }
      ],
      "source": [
        "inverse_k1 = k1.inv() #oblicz odwrotność macierzy k1\n",
        "inverse_k1"
      ]
    },
    {
      "cell_type": "code",
      "execution_count": null,
      "metadata": {
        "colab": {
          "base_uri": "https://localhost:8080/",
          "height": 78
        },
        "id": "-lLKlGy1TXIg",
        "outputId": "bf6304e1-a576-4781-fa13-86cec4042e1b"
      },
      "outputs": [
        {
          "output_type": "execute_result",
          "data": {
            "text/plain": [
              "Matrix([\n",
              "[1, 0, 0],\n",
              "[0, 1, 0],\n",
              "[0, 0, 1]])"
            ],
            "text/latex": "$\\displaystyle \\left[\\begin{matrix}1 & 0 & 0\\\\0 & 1 & 0\\\\0 & 0 & 1\\end{matrix}\\right]$"
          },
          "metadata": {},
          "execution_count": 3
        }
      ],
      "source": [
        "k1*inverse_k1 # sprawdzamy czy mnożenie macierzy przez jej odwrotność daje macierz jednostkową"
      ]
    },
    {
      "cell_type": "markdown",
      "metadata": {
        "id": "-ShnG82cTXIg"
      },
      "source": [
        "**Przykład 2:**"
      ]
    },
    {
      "cell_type": "code",
      "execution_count": null,
      "metadata": {
        "colab": {
          "base_uri": "https://localhost:8080/",
          "height": 89
        },
        "id": "YRcWkd5VTXIg",
        "outputId": "8214dfe8-1560-41d4-910b-4edff51bd418"
      },
      "outputs": [
        {
          "output_type": "execute_result",
          "data": {
            "text/plain": [
              "Matrix([\n",
              "[ (e*i - f*h)/(a*e*i - a*f*h - b*d*i + b*f*g + c*d*h - c*e*g), (-b*i + c*h)/(a*e*i - a*f*h - b*d*i + b*f*g + c*d*h - c*e*g),  (b*f - c*e)/(a*e*i - a*f*h - b*d*i + b*f*g + c*d*h - c*e*g)],\n",
              "[(-d*i + f*g)/(a*e*i - a*f*h - b*d*i + b*f*g + c*d*h - c*e*g),  (a*i - c*g)/(a*e*i - a*f*h - b*d*i + b*f*g + c*d*h - c*e*g), (-a*f + c*d)/(a*e*i - a*f*h - b*d*i + b*f*g + c*d*h - c*e*g)],\n",
              "[ (d*h - e*g)/(a*e*i - a*f*h - b*d*i + b*f*g + c*d*h - c*e*g), (-a*h + b*g)/(a*e*i - a*f*h - b*d*i + b*f*g + c*d*h - c*e*g),  (a*e - b*d)/(a*e*i - a*f*h - b*d*i + b*f*g + c*d*h - c*e*g)]])"
            ],
            "text/latex": "$\\displaystyle \\left[\\begin{matrix}\\frac{e i - f h}{a e i - a f h - b d i + b f g + c d h - c e g} & \\frac{- b i + c h}{a e i - a f h - b d i + b f g + c d h - c e g} & \\frac{b f - c e}{a e i - a f h - b d i + b f g + c d h - c e g}\\\\\\frac{- d i + f g}{a e i - a f h - b d i + b f g + c d h - c e g} & \\frac{a i - c g}{a e i - a f h - b d i + b f g + c d h - c e g} & \\frac{- a f + c d}{a e i - a f h - b d i + b f g + c d h - c e g}\\\\\\frac{d h - e g}{a e i - a f h - b d i + b f g + c d h - c e g} & \\frac{- a h + b g}{a e i - a f h - b d i + b f g + c d h - c e g} & \\frac{a e - b d}{a e i - a f h - b d i + b f g + c d h - c e g}\\end{matrix}\\right]$"
          },
          "metadata": {},
          "execution_count": 4
        }
      ],
      "source": [
        "import sympy as sp\n",
        "a,b,c,d,e,f,g,h,i = sp.symbols('a b c d e f g h i') #definiujemy zmienne a-i\n",
        "k=sp.Matrix([[a, b, c], [d, e, f], [g, h, i]]) #tworzymy macierz k\n",
        "inverse_k = k.inv()\n",
        "inverse_k"
      ]
    },
    {
      "cell_type": "markdown",
      "metadata": {
        "id": "aBsgUo8CTXIh"
      },
      "source": [
        "Ta skomplikowana postać wynika ze wzoru, który pozwala na obliczenie elementów macierzy odwrotnej. Zanim do niego przejdziemy, zdefiniujmy kilka pojęć."
      ]
    },
    {
      "cell_type": "markdown",
      "metadata": {
        "id": "fjnCNUzFTXIh"
      },
      "source": [
        "**Transpozycja macierzy** jest operacją, która zamienia wiersze na kolumny. Transponowana macierz do macierzy $A$ to taka macierz $A^T$, że $A^T_{ij} = A_{ji}$."
      ]
    },
    {
      "cell_type": "code",
      "execution_count": null,
      "metadata": {
        "colab": {
          "base_uri": "https://localhost:8080/",
          "height": 78
        },
        "id": "hwGMslUpTXIh",
        "outputId": "7f8a2b4b-86db-4462-c38b-49a8bffce7d9"
      },
      "outputs": [
        {
          "output_type": "execute_result",
          "data": {
            "text/plain": [
              "Matrix([\n",
              "[a, b, c],\n",
              "[d, e, f],\n",
              "[g, h, i]])"
            ],
            "text/latex": "$\\displaystyle \\left[\\begin{matrix}a & b & c\\\\d & e & f\\\\g & h & i\\end{matrix}\\right]$"
          },
          "metadata": {},
          "execution_count": 5
        }
      ],
      "source": [
        "k"
      ]
    },
    {
      "cell_type": "code",
      "execution_count": null,
      "metadata": {
        "colab": {
          "base_uri": "https://localhost:8080/",
          "height": 78
        },
        "id": "Bw5z9cafTXIh",
        "outputId": "727d8f38-f979-4119-fbce-afe8c8f56bec"
      },
      "outputs": [
        {
          "output_type": "execute_result",
          "data": {
            "text/plain": [
              "Matrix([\n",
              "[a, d, g],\n",
              "[b, e, h],\n",
              "[c, f, i]])"
            ],
            "text/latex": "$\\displaystyle \\left[\\begin{matrix}a & d & g\\\\b & e & h\\\\c & f & i\\end{matrix}\\right]$"
          },
          "metadata": {},
          "execution_count": 6
        }
      ],
      "source": [
        "k.transpose() #transponujemy macierz k"
      ]
    },
    {
      "cell_type": "markdown",
      "metadata": {
        "id": "JgwINr1JTXIh"
      },
      "source": [
        "**Podwyznacznik** (minor) macierzy $A$ to wyznacznik macierzy, z której usunięto $i$-ty wiersz i $j$-tą kolumnę. Oznaczmy go $M_{ij}$."
      ]
    },
    {
      "cell_type": "code",
      "execution_count": null,
      "metadata": {
        "colab": {
          "base_uri": "https://localhost:8080/",
          "height": 78
        },
        "id": "gmFymiDHTXIi",
        "outputId": "a0a40b2b-6158-4a3d-b838-0fc435903004"
      },
      "outputs": [
        {
          "output_type": "execute_result",
          "data": {
            "text/plain": [
              "Matrix([\n",
              "[1, 2, 3],\n",
              "[4, 5, 6],\n",
              "[7, 8, 9]])"
            ],
            "text/latex": "$\\displaystyle \\left[\\begin{matrix}1 & 2 & 3\\\\4 & 5 & 6\\\\7 & 8 & 9\\end{matrix}\\right]$"
          },
          "metadata": {},
          "execution_count": 7
        }
      ],
      "source": [
        "# Podwyznacznik (minor) macierzy $A$ to wyznacznik macierzy, z której usunięto $i$-ty wiersz i $j$-tą kolumnę. Oznaczmy go $M_{ij}$.\n",
        "k2=sp.Matrix([[1, 2, 3], [4, 5, 6], [7, 8, 9]])\n",
        "k2"
      ]
    },
    {
      "cell_type": "code",
      "execution_count": null,
      "metadata": {
        "colab": {
          "base_uri": "https://localhost:8080/",
          "height": 58
        },
        "id": "ckLUB5wrTXIi",
        "outputId": "f26756f7-e873-4c2b-9d67-6a0363e7dc15"
      },
      "outputs": [
        {
          "output_type": "execute_result",
          "data": {
            "text/plain": [
              "Matrix([\n",
              "[4, 6],\n",
              "[7, 9]])"
            ],
            "text/latex": "$\\displaystyle \\left[\\begin{matrix}4 & 6\\\\7 & 9\\end{matrix}\\right]$"
          },
          "metadata": {},
          "execution_count": 8
        }
      ],
      "source": [
        "M01 = k2.minor_submatrix(0, 1) #obliczamy minor M01\n",
        "M01"
      ]
    },
    {
      "cell_type": "code",
      "execution_count": null,
      "metadata": {
        "colab": {
          "base_uri": "https://localhost:8080/",
          "height": 58
        },
        "id": "jMTU144uTXIi",
        "outputId": "80ef588a-36ff-4e14-d859-8d64fa445650"
      },
      "outputs": [
        {
          "output_type": "execute_result",
          "data": {
            "text/plain": [
              "Matrix([\n",
              "[1, 2],\n",
              "[4, 5]])"
            ],
            "text/latex": "$\\displaystyle \\left[\\begin{matrix}1 & 2\\\\4 & 5\\end{matrix}\\right]$"
          },
          "metadata": {},
          "execution_count": 9
        }
      ],
      "source": [
        "M22 = k2.minor_submatrix(2, 2)  #obliczamy minor M22\n",
        "M22"
      ]
    },
    {
      "cell_type": "markdown",
      "metadata": {
        "id": "q27p67YcTXIi"
      },
      "source": [
        "**Dopełnienie algebraiczne** elementu $a_{ij}= (-1)^{i+j} \\, M_{ij}$, czyli podwyznacznik pomnożony przez $(-1)^{i+j}$."
      ]
    },
    {
      "cell_type": "markdown",
      "metadata": {
        "id": "lZLk0TXfTXIi"
      },
      "source": [
        "**Rząd macierzy** to stopień największego, niezerowego minora tej macierzy. Rząd macierzy równy jest ilości liniowo niezależnych wierszy lub kolumn w macierzy."
      ]
    },
    {
      "cell_type": "code",
      "execution_count": null,
      "metadata": {
        "colab": {
          "base_uri": "https://localhost:8080/"
        },
        "id": "assrotyGTXIi",
        "outputId": "89bf9f85-2069-4d09-a7c5-e6258fcacb25"
      },
      "outputs": [
        {
          "output_type": "execute_result",
          "data": {
            "text/plain": [
              "2"
            ]
          },
          "metadata": {},
          "execution_count": 10
        }
      ],
      "source": [
        "k2.rank()   #obliczamy rząd macierzy k2"
      ]
    },
    {
      "cell_type": "markdown",
      "metadata": {
        "id": "JaDlA2GaTXIi"
      },
      "source": [
        "### Macierz odwrotna 3x3\n",
        "\n",
        "Wykorzystanie transpozycji macierzy dopełnień algebraicznych (minorów):\n",
        "\n",
        "$$K^{-1} =\n",
        "\\begin{bmatrix}\n",
        "a & b & c \\\\\n",
        "d & e & f \\\\\n",
        "g & h & i\n",
        "\\end{bmatrix}^{-1}\n",
        "= \\frac{1}{\\det(\\mathbf{K})}\n",
        "\\begin{bmatrix}\n",
        "A & B & C \\\\\n",
        "D & E & F \\\\\n",
        "G & H & I\n",
        "\\end{bmatrix}^T\n",
        "= \\frac{1}{\\det(\\mathbf{A})}\n",
        "\\begin{bmatrix}\n",
        "A & D & G \\\\\n",
        "B & E & H \\\\\n",
        "C & F & I\n",
        "\\end{bmatrix}\n",
        "$$\n",
        "\n",
        "Jeśli wyznacznik jest różny od zera, macierz jest odwracalna, a elementy macierzy pośredniej po prawej stronie powyższego wzoru są określone przez:\n",
        "\n",
        "$$\n",
        "\\begin{aligned}\n",
        "A &= det ( \\begin{bmatrix} e & f \\\\ h & i \\end{bmatrix} ) & B &= - det ( \\begin{bmatrix} d & f \\\\ g & i \\end{bmatrix} ) & C &= det ( \\begin{bmatrix} d & e \\\\ g & h \\end{bmatrix} ) \\\\\n",
        "D &= - det ( \\begin{bmatrix} b & c \\\\ h & i \\end{bmatrix} ) & E &= det ( \\begin{bmatrix} a & c \\\\ g & i \\end{bmatrix} ) & F &= - det ( \\begin{bmatrix} a & b \\\\ g & h \\end{bmatrix} ) \\\\\n",
        "G &= det ( \\begin{bmatrix} b & c \\\\ e & f \\end{bmatrix} ) & H &= - det ( \\begin{bmatrix} a & c \\\\ d & f \\end{bmatrix} ) & I &= det ( \\begin{bmatrix} a & b \\\\ d & e \\end{bmatrix} )\n",
        "\\end{aligned}\n",
        "$$\n",
        "czyli przez wyznaczniki macierzy 2x2, które powstają przez usunięcie odpowiednich wierszy i kolumn oraz przez uwzględnienie znaku $(-1)^{i+j}$."
      ]
    },
    {
      "cell_type": "markdown",
      "metadata": {
        "id": "dsezeLa1TXIj"
      },
      "source": [
        "### Macierz odwrotna 2x2\n",
        "\n",
        "Analogicznie, dla macierzy 2x2, można obliczyć macierz odwrotną przy użyciu macierzy dopełnień algebraicznych:\n",
        "\n",
        "$$\n",
        "\\mathbf{L}^{-1} =\n",
        "\\begin{bmatrix}\n",
        "a & b \\\\\n",
        "c & d\n",
        "\\end{bmatrix}^{-1}\n",
        "= \\frac{1}{\\det(\\mathbf{L})}\n",
        "\\begin{bmatrix}\n",
        "D & C \\\\\n",
        "B & A\n",
        "\\end{bmatrix}^T\n",
        "= \\frac{1}{\\det(\\mathbf{L})}\n",
        "\\begin{bmatrix}\n",
        "D & B \\\\\n",
        "C & A\n",
        "\\end{bmatrix}\n",
        "$$\n",
        "\n",
        "gdzie $\\det(\\mathbf{L}) = ad - bc$\n",
        "\n",
        "Jeśli wyznacznik jest różny od zera to macierz jest odwracalna, a elementy macierzy pośredniej są określone jako:\n",
        "\n",
        "$$\n",
        "\\begin{aligned}\n",
        "A &= \\det \\begin{bmatrix} d \\end{bmatrix} = d, & B &= -\\det \\begin{bmatrix} b \\end{bmatrix} = -b, & C &= -\\det \\begin{bmatrix} c \\end{bmatrix} = -c, &\n",
        "D &= \\det \\begin{bmatrix} a \\end{bmatrix} = a.\n",
        "\\end{aligned}\n",
        "$$\n",
        "\n",
        "Elementy te powstają przez obliczenie wyznaczników macierzy 1x1, które powstają przez usunięcie odpowiednich wierszy i kolumn z oryginalnej macierzy 2x2 oraz przez zastosowanie odpowiednich znaków $(-1)^{i+j}$."
      ]
    },
    {
      "cell_type": "markdown",
      "metadata": {
        "id": "041b2XRGTXIj"
      },
      "source": [
        "---\n",
        "## Zadania dla  studentów"
      ]
    },
    {
      "cell_type": "markdown",
      "metadata": {
        "id": "2e_AdUhMTXIj"
      },
      "source": [
        "1. Wylicz ze wzoru macierz odwrotną do macierzy\n",
        "\n",
        "$$\n",
        "\\begin{bmatrix}\n",
        "2 & 0 & 1 \\\\\n",
        "0 & 1 & 0 \\\\\n",
        "1 & 2 & 0\n",
        "\\end{bmatrix}\n",
        "$$\n",
        "\n",
        "i sprawdź, czy wynik jest poprawny.\n",
        "\n",
        "2. Posługując się komendą `det()` ustal rząd macierzy poniżej\n",
        "$$\n",
        "A =\n",
        "\\begin{bmatrix}\n",
        "4 & -3 & 7 \\\\\n",
        "-1 & 6 & 3 \\\\\n",
        "2 & 9 & 1\n",
        "\\end{bmatrix}\n",
        "$$"
      ]
    },
    {
      "cell_type": "code",
      "source": [
        "#1\n",
        "import sympy as sp\n",
        "k1 = sp.Matrix([[2, 0, 1], [0, 1, 0], [1, 2, 0]])\n",
        "inverse_k1 = k1.inv() #обчислення оберененої матриці\n",
        "print(inverse_k1)\n",
        "k1*inverse_k1 #перевірка"
      ],
      "metadata": {
        "colab": {
          "base_uri": "https://localhost:8080/",
          "height": 96
        },
        "id": "mayqHk9mT-uS",
        "outputId": "69dc8306-e3fc-4cd7-9348-7951fc6cb7af"
      },
      "execution_count": null,
      "outputs": [
        {
          "output_type": "stream",
          "name": "stdout",
          "text": [
            "Matrix([[0, -2, 1], [0, 1, 0], [1, 4, -2]])\n"
          ]
        },
        {
          "output_type": "execute_result",
          "data": {
            "text/plain": [
              "Matrix([\n",
              "[1, 0, 0],\n",
              "[0, 1, 0],\n",
              "[0, 0, 1]])"
            ],
            "text/latex": "$\\displaystyle \\left[\\begin{matrix}1 & 0 & 0\\\\0 & 1 & 0\\\\0 & 0 & 1\\end{matrix}\\right]$"
          },
          "metadata": {},
          "execution_count": 18
        }
      ]
    },
    {
      "cell_type": "markdown",
      "metadata": {
        "id": "EdxpnTWuTXIj"
      },
      "source": []
    },
    {
      "cell_type": "code",
      "source": [
        "#2\n",
        "import sympy as sp\n",
        "A = sp.Matrix([[4, -3, 7], [-1, 6, 3], [2, 9, 1]])\n",
        "rank_A = A.rank()\n",
        "print(rank_A) #ранг матриці\n",
        "det_A = A.det()\n",
        "print(det_A) #визначник"
      ],
      "metadata": {
        "colab": {
          "base_uri": "https://localhost:8080/"
        },
        "id": "gSprQGPRVVat",
        "outputId": "3b358f7e-a7d8-49a5-e5d7-7c6775530bb3"
      },
      "execution_count": null,
      "outputs": [
        {
          "output_type": "stream",
          "name": "stdout",
          "text": [
            "3\n",
            "-252\n"
          ]
        }
      ]
    }
  ],
  "metadata": {
    "kernelspec": {
      "display_name": "Python 3",
      "language": "python",
      "name": "python3"
    },
    "language_info": {
      "codemirror_mode": {
        "name": "ipython",
        "version": 3
      },
      "file_extension": ".py",
      "mimetype": "text/x-python",
      "name": "python",
      "nbconvert_exporter": "python",
      "pygments_lexer": "ipython3",
      "version": "3.11.9"
    },
    "colab": {
      "provenance": [],
      "include_colab_link": true
    }
  },
  "nbformat": 4,
  "nbformat_minor": 0
}