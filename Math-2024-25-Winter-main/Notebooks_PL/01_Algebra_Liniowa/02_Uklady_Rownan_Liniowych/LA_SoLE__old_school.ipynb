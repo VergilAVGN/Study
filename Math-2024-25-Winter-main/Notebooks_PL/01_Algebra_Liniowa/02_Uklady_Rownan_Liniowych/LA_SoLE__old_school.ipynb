{
  "cells": [
    {
      "cell_type": "markdown",
      "metadata": {
        "id": "gjdopTYkKnh9"
      },
      "source": [
        "## Metoda szkolna rozwiązania układu równań liniowych"
      ]
    },
    {
      "cell_type": "code",
      "execution_count": 2,
      "metadata": {
        "id": "zMfpZnQLKnh-"
      },
      "outputs": [],
      "source": [
        "import sympy as sp\n",
        "from sympy import symbols, Eq, expand, solve\n",
        "\n",
        "class EnhancedEq(Eq):\n",
        "    def __add__(self, other):\n",
        "        return EnhancedEq(self.lhs + other.lhs, self.rhs + other.rhs)\n",
        "\n",
        "    def __sub__(self, other):\n",
        "        return EnhancedEq(self.lhs - other.lhs, self.rhs - other.rhs)\n",
        "\n",
        "    def __mul__(self, scalar):\n",
        "        return EnhancedEq(scalar * self.lhs, scalar * self.rhs)\n",
        "\n",
        "    def __rmul__(self, scalar):\n",
        "        return self.__mul__(scalar)\n",
        "\n",
        "    def simplify(self):\n",
        "        return EnhancedEq(expand(self.lhs), expand(self.rhs))\n",
        "\n",
        "    def substitute(self, *args, **kwargs):\n",
        "        return EnhancedEq(self.lhs.subs(*args, **kwargs), self.rhs.subs(*args, **kwargs))\n",
        "\n",
        "    def solve_for(self, symbol):\n",
        "        return solve(self, symbol)\n",
        "\n",
        "# Przykład użycia:\n",
        "x, y = symbols('x y')\n",
        "\n",
        "# Definicja równań\n",
        "eq1 = EnhancedEq(2*x + y, 5)\n",
        "eq2 = EnhancedEq(x - y, 1)"
      ]
    },
    {
      "cell_type": "code",
      "execution_count": 3,
      "metadata": {
        "id": "gWBSGPlEKnh_",
        "outputId": "9d414d69-8c0a-4c37-e669-54be943648db",
        "colab": {
          "base_uri": "https://localhost:8080/",
          "height": 57
        }
      },
      "outputs": [
        {
          "output_type": "stream",
          "name": "stdout",
          "text": [
            "Piersze równanie:\n"
          ]
        },
        {
          "output_type": "execute_result",
          "data": {
            "text/plain": [
              "Eq(2*x + y, 5)"
            ],
            "text/latex": "$\\displaystyle 2 x + y = 5$"
          },
          "metadata": {},
          "execution_count": 3
        }
      ],
      "source": [
        "print(\"Piersze równanie:\")\n",
        "eq1"
      ]
    },
    {
      "cell_type": "code",
      "execution_count": 4,
      "metadata": {
        "id": "59zkmc44KniA",
        "outputId": "9e4e52d3-6734-447e-908a-aea6999b8d32",
        "colab": {
          "base_uri": "https://localhost:8080/",
          "height": 57
        }
      },
      "outputs": [
        {
          "output_type": "stream",
          "name": "stdout",
          "text": [
            "Drugie równanie:\n"
          ]
        },
        {
          "output_type": "execute_result",
          "data": {
            "text/plain": [
              "Eq(x - y, 1)"
            ],
            "text/latex": "$\\displaystyle x - y = 1$"
          },
          "metadata": {},
          "execution_count": 4
        }
      ],
      "source": [
        "print(\"Drugie równanie:\")\n",
        "eq2"
      ]
    },
    {
      "cell_type": "code",
      "execution_count": 5,
      "metadata": {
        "id": "EFMFA-q_KniA",
        "outputId": "7f4b4e64-95de-4205-bd3a-632d283c813f",
        "colab": {
          "base_uri": "https://localhost:8080/",
          "height": 39
        }
      },
      "outputs": [
        {
          "output_type": "execute_result",
          "data": {
            "text/plain": [
              "Eq(3*x, 6)"
            ],
            "text/latex": "$\\displaystyle 3 x = 6$"
          },
          "metadata": {},
          "execution_count": 5
        }
      ],
      "source": [
        "# Dodajemy do siebie równania\n",
        "eq3 = eq1 + eq2\n",
        "eq3"
      ]
    },
    {
      "cell_type": "code",
      "execution_count": 6,
      "metadata": {
        "id": "hcncyb1tKniA",
        "outputId": "62869e29-dcdb-4d3a-b507-99ebf7f29ce6",
        "colab": {
          "base_uri": "https://localhost:8080/",
          "height": 37
        }
      },
      "outputs": [
        {
          "output_type": "execute_result",
          "data": {
            "text/plain": [
              "2"
            ],
            "text/latex": "$\\displaystyle 2$"
          },
          "metadata": {},
          "execution_count": 6
        }
      ],
      "source": [
        "# Mamy równanie z jedną niewiadomą więc możemy je rozwiązać\n",
        "sol_x = eq3.solve_for(x)[0]\n",
        "sol_x"
      ]
    },
    {
      "cell_type": "code",
      "execution_count": 7,
      "metadata": {
        "id": "fPzsmxt5KniA",
        "outputId": "dc5613dd-9fbc-4687-f99a-0ab78515b11f",
        "colab": {
          "base_uri": "https://localhost:8080/",
          "height": 39
        }
      },
      "outputs": [
        {
          "output_type": "execute_result",
          "data": {
            "text/plain": [
              "Eq(2 - y, 1)"
            ],
            "text/latex": "$\\displaystyle 2 - y = 1$"
          },
          "metadata": {},
          "execution_count": 7
        }
      ],
      "source": [
        "# Podstawiamy rozwiązanie do równania 2\n",
        "eq2=eq2.substitute(x,sol_x)\n",
        "eq2"
      ]
    },
    {
      "cell_type": "code",
      "execution_count": 8,
      "metadata": {
        "id": "ib3CRr7YKniB",
        "outputId": "7758b448-9781-4d08-a7bd-44720d5b9619",
        "colab": {
          "base_uri": "https://localhost:8080/",
          "height": 37
        }
      },
      "outputs": [
        {
          "output_type": "execute_result",
          "data": {
            "text/plain": [
              "1"
            ],
            "text/latex": "$\\displaystyle 1$"
          },
          "metadata": {},
          "execution_count": 8
        }
      ],
      "source": [
        "# Dostajemy równanie z jedną niewiadomą więc możemy je rozwiązać\n",
        "eq2.solve_for(y)[0]"
      ]
    },
    {
      "cell_type": "code",
      "execution_count": 9,
      "metadata": {
        "id": "EKqMkXUkKniB",
        "outputId": "3eab771c-f8b3-4080-fb3d-7cd2ed7af987",
        "colab": {
          "base_uri": "https://localhost:8080/"
        }
      },
      "outputs": [
        {
          "output_type": "execute_result",
          "data": {
            "text/plain": [
              "{x: 2, y: 1}"
            ]
          },
          "metadata": {},
          "execution_count": 9
        }
      ],
      "source": [
        "# czyli x=2, y=1\n",
        "# Sprawdzamy w sympy\n",
        "sp.solve([eq1,eq2])"
      ]
    },
    {
      "cell_type": "markdown",
      "metadata": {
        "id": "zUKkI9LnKniB"
      },
      "source": [
        "---\n",
        "\n",
        "### Zadania dla studentów\n",
        "\n",
        "Analogicznie jak wyżej rozwiąż następujące układy równań:\n",
        "\n",
        "* $3x-2y=5, \\quad 2x+3y=7$,\n",
        "* $2x-3y=10, \\quad 4x+5y=20$,\n",
        "* $2x - y + z = 3, \\quad x + 2y - z = 1, \\quad 3x - y + 2z = 11$.\n",
        "* $2x-3y+4z+2t=2, \\quad 3x+2y-5z+3t=3, \\quad 4x-3y+2z-5t=4, \\quad 5x+4y-3z+2t=5$.\n"
      ]
    },
    {
      "cell_type": "code",
      "source": [
        "#1\n",
        "import sympy as sp\n",
        "from sympy import symbols, Eq, expand, solve\n",
        "\n",
        "x, y = symbols('x y')\n",
        "eq1 = EnhancedEq(3*x - 2*y, 5)\n",
        "eq2 = EnhancedEq(2*x + 3*y, 7)\n",
        "\n",
        "\n",
        "eq1 =3 * eq1 #умножаем на 3 первое уровнение и будет 9х - 6у = 15\n",
        "eq2 = 2 * eq2#умножаем на 2 второе уровнение и будет 4x + 6y = 14\n",
        "\n",
        "eq3 = eq1 + eq2 #будет 13х = 29\n",
        "\n",
        "sol_x = eq3.solve_for(x)[0]\n",
        "\n",
        "eq2=eq2.substitute(x,sol_x) #подставляем х во второе урвнение\n",
        "\n",
        "eq2.solve_for(y)[0]\n",
        "\n",
        "sp.solve([eq1,eq2])"
      ],
      "metadata": {
        "id": "2zsDCja1Uyz9",
        "outputId": "82cdc8df-b28d-4f58-9eb3-750c611dbe06",
        "colab": {
          "base_uri": "https://localhost:8080/"
        }
      },
      "execution_count": 24,
      "outputs": [
        {
          "output_type": "execute_result",
          "data": {
            "text/plain": [
              "{x: 29/13, y: 11/13}"
            ]
          },
          "metadata": {},
          "execution_count": 24
        }
      ]
    },
    {
      "cell_type": "code",
      "source": [
        "#2\n",
        "import sympy as sp\n",
        "from sympy import symbols, Eq, expand, solve\n",
        "\n",
        "x, y = symbols('x y')\n",
        "eq1 = EnhancedEq(2*x - 3*y, 10)\n",
        "eq2 = EnhancedEq(4*x + 5*y, 20)\n",
        "\n",
        "eq1 = -2 * eq1 #умножаем на -2 первое уровнение и будет -4х + 6у = -20\n",
        "\n",
        "eq3 = eq1 + eq2 #будет 11y=0\n",
        "\n",
        "sol_y = eq3.solve_for(y)[0]\n",
        "sol_y\n",
        "\n",
        "eq2=eq2.substitute(y,sol_y) #подставляем у во второе урвнение\n",
        "\n",
        "eq2.solve_for(x)[0]\n",
        "\n",
        "sp.solve([eq1,eq2])"
      ],
      "metadata": {
        "id": "z4SL-meNeuyf",
        "outputId": "2c58c5c5-a1d3-4b33-8acc-744e434770a9",
        "colab": {
          "base_uri": "https://localhost:8080/"
        }
      },
      "execution_count": 28,
      "outputs": [
        {
          "output_type": "execute_result",
          "data": {
            "text/plain": [
              "{x: 5, y: 0}"
            ]
          },
          "metadata": {},
          "execution_count": 28
        }
      ]
    },
    {
      "cell_type": "code",
      "source": [
        "#3\n",
        "import sympy as sp\n",
        "from sympy import symbols, Eq, expand, solve\n",
        "\n",
        "x, y,z = symbols('x y z')\n",
        "eq1 = EnhancedEq(2*x - y + z,3)\n",
        "eq2 = EnhancedEq(x + 2*y - z , 1)\n",
        "eq3 = EnhancedEq(3*x - y + 2*z, 11)\n",
        "\n",
        "eq4 = eq1 + eq2 #будут 3х + у = 4\n",
        "eq2 = 2 * eq2 #2x+4y-2z = 2\n",
        "eq5 = eq2 + eq3#5x + 3y = 13\n",
        "\n",
        "eq4_1 = -3 * eq4 #-9x-3y=-12\n",
        "\n",
        "eq6 = eq4_1 + eq5 #-4x = 1\n",
        "\n",
        "sol_x = eq6.solve_for(x)[0]# - 1/4\n",
        "eq4=eq4.substitute(x,sol_x)\n",
        "sol_y= eq4.solve_for(y)[0] #19/4\n",
        "eq1 = eq1.substitute(x,sol_x)\n",
        "eq1 = eq1.substitute(y,sol_y)\n",
        "eq1.solve_for(z)[0]#33/4\n",
        "\n",
        "sp.solve([eq1,eq2,eq3])"
      ],
      "metadata": {
        "id": "hxmrmiAAgcR2",
        "outputId": "04fa29a4-a01f-4f65-b01b-cec8b5227593",
        "colab": {
          "base_uri": "https://localhost:8080/"
        }
      },
      "execution_count": 44,
      "outputs": [
        {
          "output_type": "execute_result",
          "data": {
            "text/plain": [
              "{x: -1/4, y: 19/4, z: 33/4}"
            ]
          },
          "metadata": {},
          "execution_count": 44
        }
      ]
    },
    {
      "cell_type": "markdown",
      "metadata": {
        "id": "8_rYINHxKniB"
      },
      "source": []
    }
  ],
  "metadata": {
    "kernelspec": {
      "display_name": ".venv",
      "language": "python",
      "name": "python3"
    },
    "language_info": {
      "codemirror_mode": {
        "name": "ipython",
        "version": 3
      },
      "file_extension": ".py",
      "mimetype": "text/x-python",
      "name": "python",
      "nbconvert_exporter": "python",
      "pygments_lexer": "ipython3",
      "version": "3.11.9"
    },
    "colab": {
      "provenance": []
    }
  },
  "nbformat": 4,
  "nbformat_minor": 0
}