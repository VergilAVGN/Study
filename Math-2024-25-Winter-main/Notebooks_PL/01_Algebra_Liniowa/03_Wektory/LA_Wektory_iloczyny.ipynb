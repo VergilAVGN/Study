{
  "cells": [
    {
      "cell_type": "markdown",
      "metadata": {
        "id": "ZFIQTvII5qL3"
      },
      "source": [
        "# Wektory - Iloczyn skalarny, wektorowy, mieszany"
      ]
    },
    {
      "cell_type": "markdown",
      "metadata": {
        "id": "s5F4Xx4R5qL5"
      },
      "source": [
        "\n",
        "## Iloczyn skalarny\n",
        "\n",
        "Iloczyn skalarny (zwany również iloczynem wewnętrznym) dwóch wektorów to operacja, która zwraca skalarną wartość. Jest definiowany jako suma iloczynów odpowiadających sobie współrzędnych dwóch wektorów.\n",
        "\n",
        "Dla dwóch wektorów $\\mathbf{a}$ i $\\mathbf{b}$ w przestrzeni $\\mathbb{R}^n$, gdzie:\n",
        "\n",
        "$$\n",
        "\\mathbf{a} = [a_1, a_2, \\dots, a_n], \\quad \\mathbf{b} = [b_1, b_2, \\dots, b_n]\n",
        "$$\n",
        "\n",
        "Iloczyn skalarny definiuje się następująco:\n",
        "\n",
        "$$\n",
        "\\mathbf{a} \\cdot \\mathbf{b} = a_1b_1 + a_2b_2 + \\dots + a_nb_n = \\sum_{i=1}^{n} a_i b_i\n",
        "$$\n",
        "\n",
        "Przykład dla przestrzeni trójwymiarowej ($ \\mathbb{R}^3 $):\n",
        "\n",
        "Dla wektorów $\\mathbf{a} = [a_1, a_2, a_3]$ oraz $\\mathbf{b} = [b_1, b_2, b_3]$, iloczyn skalarny to:\n",
        "\n",
        "$$\n",
        "\\mathbf{a} \\cdot \\mathbf{b} = a_1b_1 + a_2b_2 + a_3b_3\n",
        "$$\n",
        "\n",
        "Iloczyn skalarny zwraca liczbę, która jest miarą \"podobieństwa kierunku\" dwóch wektorów. Jeśli $\\mathbf{a} \\cdot \\mathbf{b} = 0$, to wektory są prostopadłe.\n",
        "\n",
        "Alternatywnie, iloczyn skalarny można zapisać jako:\n",
        "\n",
        "$$\n",
        "\\mathbf{a} \\cdot \\mathbf{b} = \\|\\mathbf{a}\\| \\|\\mathbf{b}\\| \\cos(\\theta),\n",
        "$$\n",
        "czyli iloczyn długości wektorów $\\mathbf{a}$ i $\\mathbf{b}$ pomnożony przez cosinus kąta między nimi."
      ]
    },
    {
      "cell_type": "markdown",
      "metadata": {
        "id": "HeNi-MFu5qL6"
      },
      "source": [
        "## Iloczyn wektorowy\n",
        "\n",
        "Iloczyn wektorowy (zwany również iloczynem zewnętrznym) to operacja, która zwraca nowy wektor prostopadły do dwóch wektorów wyjściowych. Jest zdefiniowany tylko w przestrzeni trójwymiarowej $ \\mathbb{R}^3 $.\n",
        "\n",
        "Dla dwóch wektorów $ \\mathbf{a} = [a_1, a_2, a_3] $ oraz $ \\mathbf{b} = [b_1, b_2, b_3] $, iloczyn wektorowy $ \\mathbf{a} \\times \\mathbf{b} $ definiuje się jako:\n",
        "\n",
        "$$ \\mathbf{a} \\times \\mathbf{b} =\n",
        "\\begin{vmatrix}\n",
        "\\mathbf{i} & \\mathbf{j} & \\mathbf{k} \\\\\n",
        "a_1 & a_2 & a_3 \\\\\n",
        "b_1 & b_2 & b_3\n",
        "\\end{vmatrix}\n",
        "$$\n",
        "\n",
        "Gdzie $ \\mathbf{i}, \\mathbf{j}, \\mathbf{k} $ to wektory jednostkowe wzdłuż osi $ x, y, z $. Dość zabawnie, aby policzyć iloczyny wektorowy i otrzymać finalny wektor używamy wyznacznika (skalara) z macierzy (tensor drugiego rzędu), wierszami której są wektory bazowe (wektory) i składowe wektorów (skalary).\n",
        "\n",
        "Iloczyn wektorowy można zapisać w postaci rozwiniętej:\n",
        "\n",
        "$$ \\mathbf{a} \\times \\mathbf{b} = \\left( a_2b_3 - a_3b_2 \\right)\\mathbf{i} - \\left( a_1b_3 - a_3b_1 \\right)\\mathbf{j} + \\left( a_1b_2 - a_2b_1 \\right)\\mathbf{k} $$\n",
        "\n",
        "Wynikiem iloczynu wektorowego jest nowy wektor:\n",
        "\n",
        "$$ \\mathbf{c} = \\mathbf{a} \\times \\mathbf{b} = [a_2b_3 - a_3b_2, a_3b_1 - a_1b_3, a_1b_2 - a_2b_1] $$\n",
        "\n",
        "Iloczyn wektorowy zwraca wektor $\\mathbf{c}$ prostopadły do płaszczyzny wyznaczonej przez $ \\mathbf{a} $ i $ \\mathbf{b} $, a jego długość jest równa powierzchni równoległoboku, którego boki są wyznaczone przez wektory $ \\mathbf{a} $ i $ \\mathbf{b} $\n",
        "$$\n",
        "|\\mathbf{c}| = |\\mathbf{a}| |\\mathbf{b}| \\sin \\theta\n",
        "$$\n",
        "\n",
        "gdzie $\\theta$ jest kątem między wektorami. Kierunek wektora $\\vec{c}$ określa reguła prawej dłoni."
      ]
    },
    {
      "cell_type": "markdown",
      "metadata": {
        "id": "BlYAs9ti5qL6"
      },
      "source": [
        "## Iloczyn mieszany\n",
        "\n",
        "Iloczyn mieszany trzech wektorów $\\mathbf{a}, \\mathbf{b}, \\mathbf{c}$ jest definiowany jako:\n",
        "\n",
        "$$\n",
        "\\mathbf{a} \\cdot \\left( \\mathbf{b} \\times \\mathbf{c} \\right)\n",
        "$$\n",
        "\n",
        "Jest to równoważne iloczynowi skalarnemu $\\mathbf{a} \\times \\left( \\mathbf{b} \\times \\mathbf{c} \\right)$.\n",
        "\n",
        "Iloczyn mieszany jest równy zero, jeśli wektory $\\mathbf{a}, \\mathbf{b}, \\mathbf{c}$ są współliniowe lub równoległe.\n",
        "\n",
        "Objętość równoległościanu wyznaczonego przez trzy wektory $\\mathbf{a}, \\mathbf{b}, \\mathbf{c}$ jest równa wartości bezwzględnej iloczynu mieszanej tych wektorów."
      ]
    },
    {
      "cell_type": "markdown",
      "metadata": {
        "id": "dsEWTFiq5qL6"
      },
      "source": [
        "## Implementacja"
      ]
    },
    {
      "cell_type": "code",
      "execution_count": 1,
      "metadata": {
        "id": "FH1b7rKO5qL6"
      },
      "outputs": [],
      "source": [
        "import sympy as sp\n",
        "# Definicje wektorów\n",
        "a = sp.Matrix([1, 2, 3])\n",
        "b = sp.Matrix([4, 5, 6])\n",
        "c= sp.Matrix([7, 0, 9])\n",
        "d= sp.Matrix([0, 2, 0])"
      ]
    },
    {
      "cell_type": "code",
      "execution_count": 2,
      "metadata": {
        "id": "6Db9Nvpn5qL7",
        "outputId": "b34013a6-cf28-42f8-f698-4cfacd22ec8f",
        "colab": {
          "base_uri": "https://localhost:8080/",
          "height": 78
        }
      },
      "outputs": [
        {
          "output_type": "execute_result",
          "data": {
            "text/plain": [
              "Matrix([\n",
              "[7],\n",
              "[0],\n",
              "[9]])"
            ],
            "text/latex": "$\\displaystyle \\left[\\begin{matrix}7\\\\0\\\\9\\end{matrix}\\right]$"
          },
          "metadata": {},
          "execution_count": 2
        }
      ],
      "source": [
        "# wyświetlenie wektora c\n",
        "c"
      ]
    },
    {
      "cell_type": "code",
      "execution_count": 3,
      "metadata": {
        "id": "kg6ZaAmV5qL7",
        "outputId": "dfd87105-0dab-4d24-eb87-e419c77d6666",
        "colab": {
          "base_uri": "https://localhost:8080/",
          "height": 78
        }
      },
      "outputs": [
        {
          "output_type": "execute_result",
          "data": {
            "text/plain": [
              "Matrix([\n",
              "[5],\n",
              "[7],\n",
              "[9]])"
            ],
            "text/latex": "$\\displaystyle \\left[\\begin{matrix}5\\\\7\\\\9\\end{matrix}\\right]$"
          },
          "metadata": {},
          "execution_count": 3
        }
      ],
      "source": [
        "# dodawanie wektorów a i b\n",
        "a+b"
      ]
    },
    {
      "cell_type": "code",
      "execution_count": 4,
      "metadata": {
        "id": "7Nx1GDzO5qL7",
        "outputId": "cf2eda2a-586e-4a7c-983f-2851fcd42abf",
        "colab": {
          "base_uri": "https://localhost:8080/"
        }
      },
      "outputs": [
        {
          "output_type": "execute_result",
          "data": {
            "text/plain": [
              "True"
            ]
          },
          "metadata": {},
          "execution_count": 4
        }
      ],
      "source": [
        "# iloczyn skalarny a i b\n",
        "(1*4+2*5+3*6)==a.dot(b)"
      ]
    },
    {
      "cell_type": "code",
      "execution_count": 5,
      "metadata": {
        "id": "M4bY9Qy65qL7",
        "outputId": "ec894497-1228-44da-9aa4-0cfa642cd377",
        "colab": {
          "base_uri": "https://localhost:8080/"
        }
      },
      "outputs": [
        {
          "output_type": "execute_result",
          "data": {
            "text/plain": [
              "True"
            ]
          },
          "metadata": {},
          "execution_count": 5
        }
      ],
      "source": [
        "#iloczyn wektorowy a i c\n",
        "# a = [1, 2, 3]\n",
        "# c= [7, 0, 9]\n",
        "\n",
        "# Pomocniczo zapiszmy wektory jako macierze 3x3\n",
        "# i, j, k\n",
        "# 1, 2, 3\n",
        "# 7, 0, 9\n",
        "\n",
        "# Teraz\n",
        "comp1 = (2*9-3*0)\n",
        "comp2 = -(1*9-3*7)\n",
        "comp3 = (1*0-2*7)\n",
        "\n",
        "# Wynik\n",
        "sp.Matrix([comp1, comp2, comp3])==a.cross(c)"
      ]
    },
    {
      "cell_type": "code",
      "execution_count": 6,
      "metadata": {
        "id": "kvBErEou5qL8",
        "outputId": "77efe9f6-3252-446c-bd72-158d89df2f6e",
        "colab": {
          "base_uri": "https://localhost:8080/"
        }
      },
      "outputs": [
        {
          "output_type": "execute_result",
          "data": {
            "text/plain": [
              "True"
            ]
          },
          "metadata": {},
          "execution_count": 6
        }
      ],
      "source": [
        "# Prostopadłość wektorów\n",
        "# c= [7, 0, 9]\n",
        "# d= [0, 2, 0]\n",
        "\n",
        "# Jeśli iloczyn skalarny wektorów jest równy 0, to znaczy, że są one prostopadłe\n",
        "iloczyn_skalarny = 7*0+0*2+9*0\n",
        "iloczyn_skalarny==0"
      ]
    },
    {
      "cell_type": "markdown",
      "metadata": {
        "id": "xf5ksbRj5qL8"
      },
      "source": [
        "## Zastosowania\n",
        "\n",
        "### Obliczanie kąta między wektorami\n",
        "\n",
        "$$\n",
        "\\cos \\theta = \\frac{\\mathbf{a} \\cdot \\mathbf{b}}{\\|\\mathbf{a}\\| \\|\\mathbf{b}\\|}\n",
        "$$\n",
        "\n",
        "### Sprawdzanie prostopadłości wektorów\n",
        "\n",
        "Wektory $\\mathbf{a}$ i $\\mathbf{b}$ są prostopadłe, jeśli ich iloczyn skalarny wynosi zero:\n",
        "$$\n",
        "\\mathbf{a} \\cdot \\mathbf{b} = 0\n",
        "\\quad \\Leftrightarrow \\quad\n",
        " \\mathbf{a} \\perp \\mathbf{b}\n",
        "$$\n",
        "\n",
        "### Znajdowanie rzutów wektorów na inne wektory\n",
        "\n",
        "$$\n",
        "\\text{Rzut} = \\frac{\\mathbf{a} \\cdot \\mathbf{b}}{\\|\\mathbf{b}\\|}\n",
        "$$\n",
        "\n",
        "### Obliczanie pracy wykonanej przez siłę w fizyce\n",
        "\n",
        "Dla siły $\\mathbf{F} = (F_x, F_y, F_z)$ działającej wzdłuż przemieszczenia $\\mathbf{d} = (d_x, d_y, d_z)$, praca obliczana jest zgodnie ze wzorem:\n",
        "\n",
        "$$\n",
        "W = \\mathbf{F} \\cdot \\mathbf{d} = |\\mathbf{F}| |\\mathbf{d}| \\cos \\theta = F_x d_x + F_y d_y + F_z d_z\n",
        "$$"
      ]
    },
    {
      "cell_type": "markdown",
      "metadata": {
        "id": "bUJom3eI5qL8"
      },
      "source": [
        "### Moment siły\n",
        "\n",
        "W fizyce: moment siły (moment obrotowy) to iloczyn wektorowy wektora siły i ramienia:\n",
        "\n",
        "$$\n",
        "\\mathbf{M} = \\mathbf{r} \\times \\mathbf{F}\n",
        "$$\n",
        "\n",
        "### Obliczanie pola równoległoboku\n",
        "\n",
        "Pole równoległoboku rozpiętego na dwóch wektorach:\n",
        "\n",
        "$$\n",
        "\\text{Area}_{r} = \\mathbf{a} \\times \\mathbf{b} = |\\mathbf{a}| |\\mathbf{b}| \\sin \\theta\n",
        "$$\n",
        "\n",
        "### Obliczanie pola trójkąta\n",
        "\n",
        "Pole trójkąta rozpiętego na dwóch wektorach $\\mathbf{a}$ i $\\mathbf{b}$:\n",
        "\n",
        "$$\n",
        "\\text{Area}_{t} = \\frac{1}{2} |\\mathbf{a} \\times \\mathbf{b}|\n",
        "$$"
      ]
    },
    {
      "cell_type": "markdown",
      "metadata": {
        "id": "TORAz3M15qL8"
      },
      "source": [
        "### Obliczanie objętości równoległościanów i czworościanów\n",
        "\n",
        "Iloczyn mieszany wektorów jest używany do obliczania objętości równoległościanów i czworościanów. Dla trzech wektorów **$\\mathbf{a}$**, **$\\mathbf{b}$** i **$\\mathbf{c}$**, objętość równoległościanu jest dana wzorem:\n",
        "\n",
        "$$\n",
        "V = |\\mathbf{a} \\cdot (\\mathbf{b} \\times \\mathbf{c})|\n",
        "$$\n",
        "(Uwaga: **| |** oznacza tutaj wartość bezwzględną, a nie długość!)\n",
        "\n",
        "### Sprawdzanie współpłaszczyznowości trzech wektorów\n",
        "\n",
        "Jeśli iloczyn mieszany trzech wektorów jest równy zeru, oznacza to, że wektory są współpłaszczyznowe. W przeciwnym razie, tworzą one czworościan."
      ]
    },
    {
      "cell_type": "markdown",
      "metadata": {
        "id": "YJsF3VDv5qL8"
      },
      "source": [
        "---\n",
        "\n",
        "## Zadania dla studentów\n",
        "\n",
        "A. Zrealizuj dodawanie wektora $[2, 1]$ do wektora $[-1, 1]$. Zaznacz oba wektory oraz ich sumę na wykresie.\n",
        "\n",
        "B. Policz pole trójkąta rozpiętego na wektorach $[2, 1]$ i $[-1, 1]$.\n",
        "\n",
        "C. Policz objętość równoległościanu rozpiętego na wektorach $[2, 1]$, $[-1, 1]$ i $[1, 2]$.\n",
        "\n",
        "D. Sprawdź, czy wektory $[2, 1]$ i $[-1, 1]$ są prostopadłe.\n",
        "\n",
        "E. Policz kąt w stopniach między wektorami $[4,2,1]$ a $[1,3,2]$.\n",
        "\n",
        "F. Dla wektorów trójwymiarowych: $\\mathbf{a}=[a_x, a_y, a_z]$, $\\mathbf{b}=[b_x, b_y, b_z]$, $\\mathbf{c}=[c_x, c_y, c_z]$, udowodnij, że spełniona jest tożsamość:\n",
        "\n",
        "$$\n",
        "\\mathbf{a} \\times (\\mathbf{b} \\times \\mathbf{c}) = (\\mathbf{a} \\cdot \\mathbf{c}) \\mathbf{b} - (\\mathbf{a} \\cdot \\mathbf{b}) \\mathbf{c}.\n",
        "$$"
      ]
    },
    {
      "cell_type": "code",
      "source": [
        "#A\n",
        "import matplotlib.pyplot as plt\n",
        "import numpy as np\n",
        "\n",
        "a = np.array([2, 1])\n",
        "b = np.array([-1, 1])\n",
        "\n",
        "c = a + b #сума векторов\n",
        "\n",
        "plt.figure(figsize=(6, 6))\n",
        "plt.quiver(0, 0, a[0], a[1], angles='xy', scale_units='xy', scale=1, color='r', label='a = [2, 1]')\n",
        "plt.quiver(0, 0, b[0], b[1], angles='xy', scale_units='xy', scale=1, color='b', label='b = [-1, 1]')\n",
        "plt.quiver(0, 0, c[0], c[1], angles='xy', scale_units='xy', scale=1, color='g', label='a + b = [1, 2]')\n",
        "\n",
        "plt.xlim(-2, 3)\n",
        "plt.ylim(-1, 3)\n",
        "plt.xlabel(\"X\")\n",
        "plt.ylabel(\"Y\")\n",
        "plt.grid(True)\n",
        "plt.legend()\n",
        "\n",
        "plt.show()"
      ],
      "metadata": {
        "id": "j9SzMz1U7PPI",
        "outputId": "6b01d381-3ee3-45e3-ca92-34925e69231e",
        "colab": {
          "base_uri": "https://localhost:8080/",
          "height": 547
        }
      },
      "execution_count": 6,
      "outputs": [
        {
          "output_type": "display_data",
          "data": {
            "text/plain": [
              "<Figure size 600x600 with 1 Axes>"
            ],
            "image/png": "[encoded data removed]"
          },
          "metadata": {}
        }
      ]
    },
    {
      "cell_type": "code",
      "source": [
        "#B\n",
        "\n",
        "import numpy as np\n",
        "\n",
        "a = np.array([2, 1])\n",
        "b = np.array([-1, 1])\n",
        "\n",
        "# Obliczanie iloczynu wektorowego\n",
        "c = np.cross(a, b)\n",
        "\n",
        "# Pole trójkąta to połowa długości iloczynu wektorowego\n",
        "area = 0.5 * np.linalg.norm(c)\n",
        "\n",
        "print(area)"
      ],
      "metadata": {
        "id": "6WyWLpkN706q",
        "outputId": "1fddd764-a716-4b3c-99e3-f0eb56d46b41",
        "colab": {
          "base_uri": "https://localhost:8080/"
        }
      },
      "execution_count": 15,
      "outputs": [
        {
          "output_type": "stream",
          "name": "stdout",
          "text": [
            "1.5\n"
          ]
        }
      ]
    },
    {
      "cell_type": "code",
      "source": [
        "#D\n",
        "\n",
        "import numpy as np\n",
        "\n",
        "a = np.array([2, 1])\n",
        "b = np.array([-1, 1])\n",
        "\n",
        "# Iloczyn skalarny\n",
        "il_skal = np.dot(a, b)\n",
        "\n",
        "# Sprawdzenie prostopadłości\n",
        "if il_skal == 0:\n",
        "  print(\"Wektory są prostopadłe.\")\n",
        "else:\n",
        "  print(\"Wektory nie są prostopadłe.\")"
      ],
      "metadata": {
        "id": "nQKVIzewB_vL",
        "outputId": "e02a65bd-3207-4acf-e7a6-f8cab22c8f72",
        "colab": {
          "base_uri": "https://localhost:8080/"
        }
      },
      "execution_count": 7,
      "outputs": [
        {
          "output_type": "stream",
          "name": "stdout",
          "text": [
            "Wektory nie są prostopadłe.\n"
          ]
        }
      ]
    },
    {
      "cell_type": "markdown",
      "metadata": {
        "id": "sLL9Y3e65qL8"
      },
      "source": []
    },
    {
      "cell_type": "code",
      "source": [
        "import numpy as np\n",
        "\n",
        "a = np.array([4, 2, 1])\n",
        "b = np.array([1, 3, 2])\n",
        "\n",
        "# Iloczyn skalarny a  b\n",
        "dot_product = np.dot(a, b)\n",
        "\n",
        "#Довжини векторів a і b\n",
        "magnitude_a = np.linalg.norm(a)\n",
        "magnitude_b = np.linalg.norm(b)\n",
        "\n",
        "# Kąt między wektorami a i b кут між векторами а і b\n",
        "cos_alpha = dot_product / (magnitude_a * magnitude_b)\n",
        "alpha_radians = np.arccos(cos_alpha)\n",
        "alpha_degrees = np.degrees(alpha_radians)\n",
        "\n",
        "print(alpha_degrees)"
      ],
      "metadata": {
        "id": "DVaEPUOPESjn",
        "outputId": "a8618008-bc1d-417b-9dba-a17185c3e49b",
        "colab": {
          "base_uri": "https://localhost:8080/"
        }
      },
      "execution_count": 12,
      "outputs": [
        {
          "output_type": "stream",
          "name": "stdout",
          "text": [
            "45.58469140280702\n"
          ]
        }
      ]
    }
  ],
  "metadata": {
    "kernelspec": {
      "display_name": "Python 3",
      "language": "python",
      "name": "python3"
    },
    "language_info": {
      "codemirror_mode": {
        "name": "ipython",
        "version": 3
      },
      "file_extension": ".py",
      "mimetype": "text/x-python",
      "name": "python",
      "nbconvert_exporter": "python",
      "pygments_lexer": "ipython3",
      "version": "3.11.9"
    },
    "colab": {
      "provenance": []
    }
  },
  "nbformat": 4,
  "nbformat_minor": 0
}