{
  "cells": [
    {
      "cell_type": "markdown",
      "metadata": {
        "id": "zA07AY9pFs24"
      },
      "source": [
        "# Wyznaczniki macierzy 2x2 i 3x3\n",
        "\n",
        "### Wyznacznik macierzy 2x2\n",
        "\n",
        "Ogólny wzór dla wyznacznika macierzy 2x2, gdzie macierz wygląda następująco:\n",
        "\n",
        "$$\n",
        "\\mathbf{A} =\n",
        "\\begin{pmatrix}\n",
        "a_{11} & a_{12} \\\\\n",
        "a_{21} & a_{22}\n",
        "\\end{pmatrix}\n",
        "$$\n",
        "\n",
        "Wyznacznik macierzy 2x2 obliczamy za pomocą wzoru:\n",
        "\n",
        "$$\n",
        "\\text{det}(A) = a_{11} \\cdot a_{22} - a_{12} \\cdot a_{21}\n",
        "$$\n",
        "\n",
        "### Wyznacznik macierzy 3x3\n",
        "\n",
        "Ogólny wzór dla wyznacznika macierzy 3x3, gdzie macierz wygląda następująco:\n",
        "\n",
        "$$\n",
        "\\mathbf{B} =\n",
        "\\begin{pmatrix}\n",
        "a_{11} & a_{12} & a_{13} \\\\\n",
        "a_{21} & a_{22} & a_{23} \\\\\n",
        "a_{31} & a_{32} & a_{33}\n",
        "\\end{pmatrix}\n",
        "$$\n",
        "\n",
        "Wyznacznik macierzy 3x3 obliczamy za pomocą metody Sarrusa lub rozwinięcia Laplace'a. Zastosujemy tutaj metodę Sarrusa:\n",
        "\n",
        "$$\n",
        "\\text{det}(B) = a_{11} \\cdot a_{22} \\cdot a_{33} + a_{12} \\cdot a_{23} \\cdot a_{31} + a_{13} \\cdot a_{21} \\cdot a_{32}\n",
        "- a_{13} \\cdot a_{22} \\cdot a_{31} - a_{12} \\cdot a_{21} \\cdot a_{33} - a_{11} \\cdot a_{23} \\cdot a_{32}\n",
        "$$\n",
        "\n",
        "<img src=\"https://upload.wikimedia.org/wikipedia/commons/c/c0/Sarrus_rule1.svg\" alt=\"Opis obrazka\" width=\"300\" align=\"center\"/>\n",
        "\n",
        "Uwaga: Metoda Sarrusa nie działa dla macierzy o większym rozmiarze niż 3x3.\n",
        "\n",
        "---\n",
        "\n",
        "### Obliczanie wyznaczników w Pythonie przy użyciu SymPy\n",
        "\n",
        "Teraz, korzystając z biblioteki SymPy, obliczymy wyznaczniki na przykładzie macierzy 2x2 i 3x3.\n",
        "\n"
      ]
    },
    {
      "cell_type": "code",
      "execution_count": null,
      "metadata": {
        "id": "RUxZsBwUFs26",
        "outputId": "bb4a7823-1804-4635-f65b-3e5f61df2620"
      },
      "outputs": [
        {
          "data": {
            "text/latex": [
              "$\\displaystyle \\left[\\begin{matrix}2 & 3\\\\1 & 4\\end{matrix}\\right]$"
            ],
            "text/plain": [
              "Matrix([\n",
              "[2, 3],\n",
              "[1, 4]])"
            ]
          },
          "execution_count": 6,
          "metadata": {},
          "output_type": "execute_result"
        }
      ],
      "source": [
        "import sympy as sp\n",
        "\n",
        "# Definiujemy macierz\n",
        "A = sp.Matrix([[2, 3], [1, 4]])\n",
        "A # wyświetlenie macierzy"
      ]
    },
    {
      "cell_type": "code",
      "execution_count": null,
      "metadata": {
        "notebookRunGroups": {
          "groupValue": "2"
        },
        "id": "C1QOM279Fs26",
        "outputId": "cb4ecf8a-a34b-4a15-9cbe-8d662ff4cff7"
      },
      "outputs": [
        {
          "data": {
            "text/plain": [
              "True"
            ]
          },
          "execution_count": 7,
          "metadata": {},
          "output_type": "execute_result"
        }
      ],
      "source": [
        "# Sprawdzenie poprawności obliczeń\n",
        "(2*4-3*1)==A.det()"
      ]
    },
    {
      "cell_type": "code",
      "execution_count": null,
      "metadata": {
        "id": "MYWbUIklFs27",
        "outputId": "0057d932-bd33-437b-c402-1e67cedebac4"
      },
      "outputs": [
        {
          "data": {
            "text/latex": [
              "$\\displaystyle \\left[\\begin{matrix}2 & 3 & 1\\\\1 & 4 & 5\\\\3 & 2 & 1\\end{matrix}\\right]$"
            ],
            "text/plain": [
              "Matrix([\n",
              "[2, 3, 1],\n",
              "[1, 4, 5],\n",
              "[3, 2, 1]])"
            ]
          },
          "execution_count": 8,
          "metadata": {},
          "output_type": "execute_result"
        }
      ],
      "source": [
        "# Macierz 3x3\n",
        "B = sp.Matrix([[2, 3, 1], [1, 4, 5], [3, 2, 1]])\n",
        "B"
      ]
    },
    {
      "cell_type": "code",
      "execution_count": null,
      "metadata": {
        "id": "BnTNFLuuFs27",
        "outputId": "931ddb1d-2a2f-4d4a-a918-b0486f9581e9"
      },
      "outputs": [
        {
          "data": {
            "text/plain": [
              "True"
            ]
          },
          "execution_count": 9,
          "metadata": {},
          "output_type": "execute_result"
        }
      ],
      "source": [
        "# Sprawdzenie poprawności obliczeń\n",
        "(2*4*1+3*5*3+1*1*2-1*4*3-5*2*2-3*1*1)==B.det()"
      ]
    },
    {
      "cell_type": "markdown",
      "metadata": {
        "id": "FZ9pp-FQFs27"
      },
      "source": [
        "---\n",
        "## Zadania dla studentów\n",
        "\n",
        "Policz wyznaczniki dla macierzy 2x2 i 3x3, które podano poniżej.\n",
        "\n",
        "1. Macierze 2x2:\n",
        "\n",
        "$$\n",
        "\\mathbf{A} =\n",
        "\\begin{pmatrix}\n",
        "2 & 3 \\\\\n",
        "1 & 4\n",
        "\\end{pmatrix}\n",
        ", \\qquad\n",
        "\\mathbf{B} =\n",
        "\\begin{pmatrix}\n",
        "5 & 6 \\\\\n",
        "7 & 8\n",
        "\\end{pmatrix}\n",
        ", \\qquad\n",
        "\\mathbf{C} =\n",
        "\\begin{pmatrix}\n",
        "-1 & 2 \\\\\n",
        "3 & 0\n",
        "\\end{pmatrix}\n",
        "$$\n"
      ]
    },
    {
      "cell_type": "markdown",
      "metadata": {
        "id": "5F5Q1kpfFs27"
      },
      "source": [
        "\n",
        "2. Macierze 3x3:\n",
        "\n",
        "\n",
        "$$\n",
        "\\mathbf{D} =\n",
        "\\begin{pmatrix}\n",
        "1 & 0 & 2 \\\\\n",
        "-1 & 3 & 1 \\\\\n",
        "2 & 4 & -2\n",
        "\\end{pmatrix}\n",
        ", \\qquad\n",
        "\\mathbf{E} =\n",
        "\\begin{pmatrix}\n",
        "3 & 1 & -1 \\\\\n",
        "0 & 2 & 4 \\\\\n",
        "5 & 3 & 2\n",
        "\\end{pmatrix}\n",
        ", \\qquad\n",
        "\\mathbf{F} =\n",
        "\\begin{pmatrix}\n",
        "2 & -3 & 1 \\\\\n",
        "1 & 4 & -2 \\\\\n",
        "1 & 5 & 3\n",
        "\\end{pmatrix}\n",
        "$$\n"
      ]
    },
    {
      "cell_type": "code",
      "source": [
        "#1 2x2\n",
        "import sympy as sp\n",
        "A = sp.Matrix([[2, 3], [1, 4]])\n",
        "print(2*4-1*3)\n",
        "#___________\n",
        "B = sp.Matrix([[5, 6], [7, 8]])\n",
        "print(5*8-6*7)\n",
        "#___________\n",
        "C = sp.Matrix([[-1, 2], [3, 0]])\n",
        "print(-1*0-2*3)\n",
        "#___________\n",
        "(2*4-1*3)==A.det()\n",
        "(5*8-6*7)==B.det()\n",
        "(-1*0-2*3)==C.det()"
      ],
      "metadata": {
        "id": "sk_0SFHSF6yE",
        "outputId": "deb354c0-92c2-459c-ef6b-d3a1e5796ee8",
        "colab": {
          "base_uri": "https://localhost:8080/"
        }
      },
      "execution_count": 14,
      "outputs": [
        {
          "output_type": "stream",
          "name": "stdout",
          "text": [
            "5\n",
            "-2\n",
            "-6\n"
          ]
        },
        {
          "output_type": "execute_result",
          "data": {
            "text/plain": [
              "True"
            ]
          },
          "metadata": {},
          "execution_count": 14
        }
      ]
    },
    {
      "cell_type": "code",
      "source": [
        "#2 3x3\n",
        "import sympy as sp\n",
        "D = sp.Matrix([[1, 0, 2], [-1, 3, 1], [2,4,-2]])\n",
        "print(1*3*-2+0*1*2+2*-1*4-2*3*2-0*-1*-2-1*1*4)\n",
        "#_______\n",
        "E = sp.Matrix([[3, 1, -1], [0, 2, 4], [5, 3, 2]])\n",
        "print(3*2*2+1*4*5+-1*0*3+1*2*5-1*0*2-3*4*3)\n",
        "#________\n",
        "F = sp.Matrix([[2, -3, 1], [1, 4, -2], [1, 5, 3]])\n",
        "print(2*4*3+-3*-2*1+1*1*5-1*4*1+3*1*3-2*-2*5)\n",
        "\n",
        "\n",
        "(1*3*-2+0*1*2+2*-1*4-2*3*2-0*-1*-2-1*1*4)==D.det()\n",
        "(3*2*2+1*4*5+-1*0*3+1*2*5-1*0*2-3*4*3)==E.det()\n",
        "2*4*3+-3*-2*1+1*1*5-1*4*1+3*1*3-2*-2*5==F.det()"
      ],
      "metadata": {
        "id": "8nlvKhu8IaZK",
        "outputId": "946b6c17-76f8-432b-cb6a-4725a7cb4f44",
        "colab": {
          "base_uri": "https://localhost:8080/"
        }
      },
      "execution_count": 32,
      "outputs": [
        {
          "output_type": "stream",
          "name": "stdout",
          "text": [
            "-30\n",
            "6\n",
            "60\n"
          ]
        },
        {
          "output_type": "execute_result",
          "data": {
            "text/plain": [
              "True"
            ]
          },
          "metadata": {},
          "execution_count": 32
        }
      ]
    }
  ],
  "metadata": {
    "kernelspec": {
      "display_name": ".venv",
      "language": "python",
      "name": "python3"
    },
    "language_info": {
      "codemirror_mode": {
        "name": "ipython",
        "version": 3
      },
      "file_extension": ".py",
      "mimetype": "text/x-python",
      "name": "python",
      "nbconvert_exporter": "python",
      "pygments_lexer": "ipython3",
      "version": "3.11.9"
    },
    "colab": {
      "provenance": []
    }
  },
  "nbformat": 4,
  "nbformat_minor": 0
}