{
  "cells": [
    {
      "cell_type": "markdown",
      "metadata": {
        "id": "view-in-github",
        "colab_type": "text"
      },
      "source": [
        "<a href=\"https://colab.research.google.com/github/VergilAVGN/Study/blob/main/la_sole_odwracanie_macierzy.ipynb\" target=\"_parent\"><img src=\"https://colab.research.google.com/assets/colab-badge.svg\" alt=\"Open In Colab\"/></a>"
      ]
    },
    {
      "cell_type": "markdown",
      "metadata": {
        "id": "HPK5qEUVLNuK"
      },
      "source": [
        "## Rozwiązanie układów równań liniowych metodą macierzy odwrotnej\n",
        "\n",
        "Zamiana układu równań liniowych na postać macierzową pozwala na zastosowanie macierzy odwrotnej do znalezienia rozwiązania układu równań.\n",
        "\n",
        "Jak przykład rozważmy $A \\cdot X = B$, gdzie macierz $A_{n \\times n}$ jest kwadratowa i nieosobliwa zaś $X$ i $B$ są macierzami kolumnowymi\n",
        "\n",
        "$X=\\begin{bmatrix} x_1 \\\\ x_2 \\\\ \\vdots \\\\ x_n \\end{bmatrix}, \\qquad B=\\begin{bmatrix} b_1 \\\\ b_2 \\\\ \\vdots \\\\ b_n \\end{bmatrix}$\n",
        "\n",
        "Rozwiązanie układu równań można znaleźć przez pomnożenie po lewej stronie macierzy $A^{-1}$ przez macierz $B$\n",
        "\n",
        "$(A^{-1} \\cdot A) \\cdot X = A^{-1} \\cdot B$\n",
        "\n",
        "$1 \\cdot X = A^{-1} \\cdot B$\n",
        "\n",
        "$X = A^{-1} \\cdot B$"
      ]
    },
    {
      "cell_type": "markdown",
      "metadata": {
        "id": "XVxnM3OuLNuL"
      },
      "source": [
        "**Przykład**\n",
        "\n",
        "Rozważmy układ równań:\n",
        "\n",
        "$$\n",
        "\\begin{cases}\n",
        "x + 2z = 3, \\\\\n",
        "2x + 3y + z = 0, \\\\\n",
        "x + 3z = 1.\n",
        "\\end{cases}\n",
        "$$\n",
        "\n",
        "Najpierw zapisujemy układ równań w formie macierzowej:\n",
        "\n",
        "\n",
        "$$\n",
        "\\begin{cases}\n",
        "1 \\cdot x + 0 \\cdot y + 2 \\cdot z = 3, \\\\\n",
        "2 \\cdot x + 3 \\cdot y + 1 \\cdot z = 0, \\\\\n",
        "1 \\cdot x + 0 \\cdot y + 3 \\cdot z = 1.\n",
        "\\end{cases}\n",
        "$$\n",
        "\n",
        "$$\n",
        "\\begin{bmatrix}\n",
        "1 & 0 & 2 \\\\\n",
        "2 & 3 & 1 \\\\\n",
        "1 & 0 & 3\n",
        "\\end{bmatrix}\n",
        "\\begin{bmatrix}\n",
        "x \\\\\n",
        "y \\\\\n",
        "z\n",
        "\\end{bmatrix}\n",
        "=\n",
        "\\begin{bmatrix}\n",
        "3 \\\\\n",
        "0 \\\\\n",
        "1\n",
        "\\end{bmatrix}\n",
        "$$\n",
        "\n",
        "Rozwiązujemy układ równań poprzez pomnożenie macierzy odwrotnej (z dobrej strony!):\n",
        "\n",
        "$$\n",
        "\\begin{bmatrix}\n",
        "x \\\\\n",
        "y \\\\\n",
        "z\n",
        "\\end{bmatrix}\n",
        "=\n",
        "\\begin{bmatrix}\n",
        "1 & 0 & 2 \\\\\n",
        "2 & 3 & 1 \\\\\n",
        "1 & 0 & 3\n",
        "\\end{bmatrix}^{-1}\n",
        "\\begin{bmatrix}\n",
        "3 \\\\\n",
        "0 \\\\\n",
        "1\n",
        "\\end{bmatrix}\n",
        "$$\n",
        "\n",
        "Obliczamy macierz odwrotną:\n",
        "\n",
        "$$\n",
        "\\begin{bmatrix}\n",
        "1 & 0 & 2 \\\\\n",
        "2 & 3 & 1 \\\\\n",
        "1 & 0 & 3\n",
        "\\end{bmatrix}^{-1}\n",
        "=\n",
        "\\begin{bmatrix}\n",
        " 4 &  0 & -2 \\\\\n",
        "-3 &  1 &  1 \\\\\n",
        "-1 &  0 &  1\n",
        "\\end{bmatrix}\n",
        "$$\n",
        "\n",
        "Mnożymy macierze\n",
        "\n",
        "$$\n",
        "\\begin{bmatrix}\n",
        "x \\\\\n",
        "y \\\\\n",
        "z\n",
        "\\end{bmatrix}\n",
        "=\n",
        "\\begin{bmatrix}\n",
        " 4 &  0 & -2 \\\\\n",
        "-3 &  1 &  1 \\\\\n",
        "-1 &  0 &  1\n",
        "\\end{bmatrix}\n",
        "\\begin{bmatrix}\n",
        "3 \\\\\n",
        "0 \\\\\n",
        "1\n",
        "\\end{bmatrix}\n",
        "=\n",
        "\\begin{bmatrix}\n",
        "7 \\\\\n",
        "-4 \\\\\n",
        "-2\n",
        "\\end{bmatrix}\n",
        "$$"
      ]
    },
    {
      "cell_type": "code",
      "execution_count": null,
      "metadata": {
        "colab": {
          "base_uri": "https://localhost:8080/",
          "height": 78
        },
        "id": "KUyRdBx3LNuL",
        "outputId": "ab502326-ef1c-444e-c689-eae2d8f08f2b"
      },
      "outputs": [
        {
          "output_type": "execute_result",
          "data": {
            "text/plain": [
              "Matrix([\n",
              "[ 7],\n",
              "[-4],\n",
              "[-2]])"
            ],
            "text/latex": "$\\displaystyle \\left[\\begin{matrix}7\\\\-4\\\\-2\\end{matrix}\\right]$"
          },
          "metadata": {},
          "execution_count": 2
        }
      ],
      "source": [
        "# ## Rozwiązanie układów równań liniowych metodą macierzy odwrotnej\n",
        "\n",
        "import sympy as sp\n",
        "\n",
        "# Macierz współczynników\n",
        "A = sp.Matrix([\n",
        "    [1, 0, 2],\n",
        "    [2, 3, 1],\n",
        "    [1, 0, 3]\n",
        "])\n",
        "\n",
        "# Wektor wyrazów wolnych\n",
        "B =  sp.Matrix([\n",
        "    [3],\n",
        "    [0],\n",
        "    [1]\n",
        "])\n",
        "# Macierz odwrotna\n",
        "A_inv = A.inv()\n",
        "\n",
        "# Rozwiązanie układu równań\n",
        "X = A_inv * B\n",
        "X"
      ]
    },
    {
      "cell_type": "markdown",
      "metadata": {
        "id": "Ki65xm9qLNuL"
      },
      "source": [
        "---\n",
        "## Zadanie dla studentów\n",
        "\n",
        "1. Rozwiąż układ równań liniowych metodą macierzy odwrotnej:\n",
        "\n",
        "$$\n",
        "\\begin{cases}\n",
        "x + 2y + 3z = 5, \\\\\n",
        "2y + 3z = 4, \\\\\n",
        "3z = 3.\n",
        "\\end{cases}\n",
        "$$\n",
        "\n",
        "2. Rozwiąż układ równań liniowych metodą macierzy odwrotnej:\n",
        "\n",
        "$$\n",
        "\\begin{cases}\n",
        "x_1 + 2x_2 + 3x_3 = 41, \\\\\n",
        "4x_1 + 5x_2 + 6x_3 = 93, \\\\\n",
        "7x_1 + 8x_2 + 9x_3 = 145.\n",
        "\\end{cases}\n",
        "$$"
      ]
    },
    {
      "cell_type": "code",
      "source": [
        "#1\n",
        "import sympy as sp\n",
        "\n",
        "A = sp.Matrix([\n",
        "    [1, 2, 3],\n",
        "    [0, 2, 3],\n",
        "    [0, 0, 3]\n",
        "])\n",
        "\n",
        "B =  sp.Matrix([\n",
        "    [5],\n",
        "    [4],\n",
        "    [3]\n",
        "])\n",
        "A_inv = A.inv()\n",
        "\n",
        "X = A_inv * B\n",
        "X"
      ],
      "metadata": {
        "colab": {
          "base_uri": "https://localhost:8080/",
          "height": 78
        },
        "id": "wYfY5jK_LV3i",
        "outputId": "50b884c0-6625-4966-a7b8-f1f3608b0c00"
      },
      "execution_count": null,
      "outputs": [
        {
          "output_type": "execute_result",
          "data": {
            "text/plain": [
              "Matrix([\n",
              "[  1],\n",
              "[1/2],\n",
              "[  1]])"
            ],
            "text/latex": "$\\displaystyle \\left[\\begin{matrix}1\\\\\\frac{1}{2}\\\\1\\end{matrix}\\right]$"
          },
          "metadata": {},
          "execution_count": 1
        }
      ]
    },
    {
      "cell_type": "code",
      "source": [
        "#2\n",
        "import sympy as sp\n",
        "import numpy as np\n",
        "\n",
        "A = sp.Matrix([\n",
        "    [1, 2, 3],\n",
        "    [4, 5, 6],\n",
        "    [7, 8, 9]\n",
        "])\n",
        "\n",
        "B =  sp.Matrix([\n",
        "    [41],\n",
        "    [93],\n",
        "    [145]\n",
        "])\n",
        "\n",
        "\n",
        "A_inv = A.inv()\n",
        "\n",
        "X = A_inv * B\n",
        "X"
      ],
      "metadata": {
        "colab": {
          "base_uri": "https://localhost:8080/",
          "height": 418
        },
        "id": "XYoyq_IfMiL1",
        "outputId": "8f11b9dc-4350-4f66-adfb-2d1ad0c78332"
      },
      "execution_count": null,
      "outputs": [
        {
          "output_type": "error",
          "ename": "NonInvertibleMatrixError",
          "evalue": "Matrix det == 0; not invertible.",
          "traceback": [
            "\u001b[0;31m---------------------------------------------------------------------------\u001b[0m",
            "\u001b[0;31mDMNonInvertibleMatrixError\u001b[0m                Traceback (most recent call last)",
            "\u001b[0;32m/usr/local/lib/python3.10/dist-packages/sympy/matrices/inverse.py\u001b[0m in \u001b[0;36m_inv_DM\u001b[0;34m(dM, cancel)\u001b[0m\n\u001b[1;32m    325\u001b[0m     \u001b[0;32mtry\u001b[0m\u001b[0;34m:\u001b[0m\u001b[0;34m\u001b[0m\u001b[0;34m\u001b[0m\u001b[0m\n\u001b[0;32m--> 326\u001b[0;31m         \u001b[0mdMi\u001b[0m\u001b[0;34m,\u001b[0m \u001b[0mden\u001b[0m \u001b[0;34m=\u001b[0m \u001b[0mdM\u001b[0m\u001b[0;34m.\u001b[0m\u001b[0minv_den\u001b[0m\u001b[0;34m(\u001b[0m\u001b[0;34m)\u001b[0m\u001b[0;34m\u001b[0m\u001b[0;34m\u001b[0m\u001b[0m\n\u001b[0m\u001b[1;32m    327\u001b[0m     \u001b[0;32mexcept\u001b[0m \u001b[0mDMNonInvertibleMatrixError\u001b[0m\u001b[0;34m:\u001b[0m\u001b[0;34m\u001b[0m\u001b[0;34m\u001b[0m\u001b[0m\n",
            "\u001b[0;32m/usr/local/lib/python3.10/dist-packages/sympy/polys/matrices/domainmatrix.py\u001b[0m in \u001b[0;36minv_den\u001b[0;34m(self, method)\u001b[0m\n\u001b[1;32m   2742\u001b[0m         \u001b[0mI\u001b[0m \u001b[0;34m=\u001b[0m \u001b[0mself\u001b[0m\u001b[0;34m.\u001b[0m\u001b[0meye\u001b[0m\u001b[0;34m(\u001b[0m\u001b[0mself\u001b[0m\u001b[0;34m.\u001b[0m\u001b[0mshape\u001b[0m\u001b[0;34m,\u001b[0m \u001b[0mself\u001b[0m\u001b[0;34m.\u001b[0m\u001b[0mdomain\u001b[0m\u001b[0;34m)\u001b[0m\u001b[0;34m\u001b[0m\u001b[0;34m\u001b[0m\u001b[0m\n\u001b[0;32m-> 2743\u001b[0;31m         \u001b[0;32mreturn\u001b[0m \u001b[0mself\u001b[0m\u001b[0;34m.\u001b[0m\u001b[0msolve_den\u001b[0m\u001b[0;34m(\u001b[0m\u001b[0mI\u001b[0m\u001b[0;34m,\u001b[0m \u001b[0mmethod\u001b[0m\u001b[0;34m=\u001b[0m\u001b[0mmethod\u001b[0m\u001b[0;34m)\u001b[0m\u001b[0;34m\u001b[0m\u001b[0;34m\u001b[0m\u001b[0m\n\u001b[0m\u001b[1;32m   2744\u001b[0m \u001b[0;34m\u001b[0m\u001b[0m\n",
            "\u001b[0;32m/usr/local/lib/python3.10/dist-packages/sympy/polys/matrices/domainmatrix.py\u001b[0m in \u001b[0;36msolve_den\u001b[0;34m(self, b, method)\u001b[0m\n\u001b[1;32m   2882\u001b[0m         \u001b[0;32melif\u001b[0m \u001b[0mmethod\u001b[0m \u001b[0;34m==\u001b[0m \u001b[0;34m'rref'\u001b[0m\u001b[0;34m:\u001b[0m\u001b[0;34m\u001b[0m\u001b[0;34m\u001b[0m\u001b[0m\n\u001b[0;32m-> 2883\u001b[0;31m             \u001b[0mxnum\u001b[0m\u001b[0;34m,\u001b[0m \u001b[0mxden\u001b[0m \u001b[0;34m=\u001b[0m \u001b[0mself\u001b[0m\u001b[0;34m.\u001b[0m\u001b[0msolve_den_rref\u001b[0m\u001b[0;34m(\u001b[0m\u001b[0mb\u001b[0m\u001b[0;34m)\u001b[0m\u001b[0;34m\u001b[0m\u001b[0;34m\u001b[0m\u001b[0m\n\u001b[0m\u001b[1;32m   2884\u001b[0m         \u001b[0;32melse\u001b[0m\u001b[0;34m:\u001b[0m\u001b[0;34m\u001b[0m\u001b[0;34m\u001b[0m\u001b[0m\n",
            "\u001b[0;32m/usr/local/lib/python3.10/dist-packages/sympy/polys/matrices/domainmatrix.py\u001b[0m in \u001b[0;36msolve_den_rref\u001b[0;34m(self, b)\u001b[0m\n\u001b[1;32m   2934\u001b[0m         \u001b[0;32mif\u001b[0m \u001b[0mlen\u001b[0m\u001b[0;34m(\u001b[0m\u001b[0mpivots\u001b[0m\u001b[0;34m)\u001b[0m \u001b[0;34m!=\u001b[0m \u001b[0mn\u001b[0m \u001b[0;32mor\u001b[0m \u001b[0mpivots\u001b[0m \u001b[0;32mand\u001b[0m \u001b[0mpivots\u001b[0m\u001b[0;34m[\u001b[0m\u001b[0;34m-\u001b[0m\u001b[0;36m1\u001b[0m\u001b[0;34m]\u001b[0m \u001b[0;34m>=\u001b[0m \u001b[0mn\u001b[0m\u001b[0;34m:\u001b[0m\u001b[0;34m\u001b[0m\u001b[0;34m\u001b[0m\u001b[0m\n\u001b[0;32m-> 2935\u001b[0;31m             \u001b[0;32mraise\u001b[0m \u001b[0mDMNonInvertibleMatrixError\u001b[0m\u001b[0;34m(\u001b[0m\u001b[0;34m\"Non-unique solution.\"\u001b[0m\u001b[0;34m)\u001b[0m\u001b[0;34m\u001b[0m\u001b[0;34m\u001b[0m\u001b[0m\n\u001b[0m\u001b[1;32m   2936\u001b[0m \u001b[0;34m\u001b[0m\u001b[0m\n",
            "\u001b[0;31mDMNonInvertibleMatrixError\u001b[0m: Non-unique solution.",
            "\nDuring handling of the above exception, another exception occurred:\n",
            "\u001b[0;31mNonInvertibleMatrixError\u001b[0m                  Traceback (most recent call last)",
            "\u001b[0;32m<ipython-input-8-bab618597a2e>\u001b[0m in \u001b[0;36m<cell line: 18>\u001b[0;34m()\u001b[0m\n\u001b[1;32m     16\u001b[0m \u001b[0;34m\u001b[0m\u001b[0m\n\u001b[1;32m     17\u001b[0m \u001b[0;34m\u001b[0m\u001b[0m\n\u001b[0;32m---> 18\u001b[0;31m \u001b[0mA_inv\u001b[0m \u001b[0;34m=\u001b[0m \u001b[0mA\u001b[0m\u001b[0;34m.\u001b[0m\u001b[0minv\u001b[0m\u001b[0;34m(\u001b[0m\u001b[0;34m)\u001b[0m\u001b[0;34m\u001b[0m\u001b[0;34m\u001b[0m\u001b[0m\n\u001b[0m\u001b[1;32m     19\u001b[0m \u001b[0;34m\u001b[0m\u001b[0m\n\u001b[1;32m     20\u001b[0m \u001b[0mX\u001b[0m \u001b[0;34m=\u001b[0m \u001b[0mA_inv\u001b[0m \u001b[0;34m*\u001b[0m \u001b[0mB\u001b[0m\u001b[0;34m\u001b[0m\u001b[0;34m\u001b[0m\u001b[0m\n",
            "\u001b[0;32m/usr/local/lib/python3.10/dist-packages/sympy/matrices/matrixbase.py\u001b[0m in \u001b[0;36minv\u001b[0;34m(self, method, iszerofunc, try_block_diag)\u001b[0m\n\u001b[1;32m   5217\u001b[0m \u001b[0;34m\u001b[0m\u001b[0m\n\u001b[1;32m   5218\u001b[0m     \u001b[0;32mdef\u001b[0m \u001b[0minv\u001b[0m\u001b[0;34m(\u001b[0m\u001b[0mself\u001b[0m\u001b[0;34m,\u001b[0m \u001b[0mmethod\u001b[0m\u001b[0;34m=\u001b[0m\u001b[0;32mNone\u001b[0m\u001b[0;34m,\u001b[0m \u001b[0miszerofunc\u001b[0m\u001b[0;34m=\u001b[0m\u001b[0m_iszero\u001b[0m\u001b[0;34m,\u001b[0m \u001b[0mtry_block_diag\u001b[0m\u001b[0;34m=\u001b[0m\u001b[0;32mFalse\u001b[0m\u001b[0;34m)\u001b[0m\u001b[0;34m:\u001b[0m\u001b[0;34m\u001b[0m\u001b[0;34m\u001b[0m\u001b[0m\n\u001b[0;32m-> 5219\u001b[0;31m         return _inv(self, method=method, iszerofunc=iszerofunc,\n\u001b[0m\u001b[1;32m   5220\u001b[0m                 try_block_diag=try_block_diag)\n\u001b[1;32m   5221\u001b[0m \u001b[0;34m\u001b[0m\u001b[0m\n",
            "\u001b[0;32m/usr/local/lib/python3.10/dist-packages/sympy/matrices/inverse.py\u001b[0m in \u001b[0;36m_inv\u001b[0;34m(M, method, iszerofunc, try_block_diag)\u001b[0m\n\u001b[1;32m    502\u001b[0m \u001b[0;34m\u001b[0m\u001b[0m\n\u001b[1;32m    503\u001b[0m     \u001b[0;32mif\u001b[0m \u001b[0mmethod\u001b[0m \u001b[0;34m==\u001b[0m \u001b[0;34m\"DM\"\u001b[0m\u001b[0;34m:\u001b[0m\u001b[0;34m\u001b[0m\u001b[0;34m\u001b[0m\u001b[0m\n\u001b[0;32m--> 504\u001b[0;31m         \u001b[0mrv\u001b[0m \u001b[0;34m=\u001b[0m \u001b[0m_inv_DM\u001b[0m\u001b[0;34m(\u001b[0m\u001b[0mdM\u001b[0m\u001b[0;34m)\u001b[0m\u001b[0;34m\u001b[0m\u001b[0;34m\u001b[0m\u001b[0m\n\u001b[0m\u001b[1;32m    505\u001b[0m     \u001b[0;32melif\u001b[0m \u001b[0mmethod\u001b[0m \u001b[0;34m==\u001b[0m \u001b[0;34m\"DMNC\"\u001b[0m\u001b[0;34m:\u001b[0m\u001b[0;34m\u001b[0m\u001b[0;34m\u001b[0m\u001b[0m\n\u001b[1;32m    506\u001b[0m         \u001b[0mrv\u001b[0m \u001b[0;34m=\u001b[0m \u001b[0m_inv_DM\u001b[0m\u001b[0;34m(\u001b[0m\u001b[0mdM\u001b[0m\u001b[0;34m,\u001b[0m \u001b[0mcancel\u001b[0m\u001b[0;34m=\u001b[0m\u001b[0;32mFalse\u001b[0m\u001b[0;34m)\u001b[0m\u001b[0;34m\u001b[0m\u001b[0;34m\u001b[0m\u001b[0m\n",
            "\u001b[0;32m/usr/local/lib/python3.10/dist-packages/sympy/matrices/inverse.py\u001b[0m in \u001b[0;36m_inv_DM\u001b[0;34m(dM, cancel)\u001b[0m\n\u001b[1;32m    326\u001b[0m         \u001b[0mdMi\u001b[0m\u001b[0;34m,\u001b[0m \u001b[0mden\u001b[0m \u001b[0;34m=\u001b[0m \u001b[0mdM\u001b[0m\u001b[0;34m.\u001b[0m\u001b[0minv_den\u001b[0m\u001b[0;34m(\u001b[0m\u001b[0;34m)\u001b[0m\u001b[0;34m\u001b[0m\u001b[0;34m\u001b[0m\u001b[0m\n\u001b[1;32m    327\u001b[0m     \u001b[0;32mexcept\u001b[0m \u001b[0mDMNonInvertibleMatrixError\u001b[0m\u001b[0;34m:\u001b[0m\u001b[0;34m\u001b[0m\u001b[0;34m\u001b[0m\u001b[0m\n\u001b[0;32m--> 328\u001b[0;31m         \u001b[0;32mraise\u001b[0m \u001b[0mNonInvertibleMatrixError\u001b[0m\u001b[0;34m(\u001b[0m\u001b[0;34m\"Matrix det == 0; not invertible.\"\u001b[0m\u001b[0;34m)\u001b[0m\u001b[0;34m\u001b[0m\u001b[0;34m\u001b[0m\u001b[0m\n\u001b[0m\u001b[1;32m    329\u001b[0m \u001b[0;34m\u001b[0m\u001b[0m\n\u001b[1;32m    330\u001b[0m     \u001b[0;32mif\u001b[0m \u001b[0muse_exact\u001b[0m\u001b[0;34m:\u001b[0m\u001b[0;34m\u001b[0m\u001b[0;34m\u001b[0m\u001b[0m\n",
            "\u001b[0;31mNonInvertibleMatrixError\u001b[0m: Matrix det == 0; not invertible."
          ]
        }
      ]
    },
    {
      "cell_type": "markdown",
      "metadata": {
        "id": "YJeVNAZ1LNuM"
      },
      "source": []
    }
  ],
  "metadata": {
    "kernelspec": {
      "display_name": "Python 3",
      "language": "python",
      "name": "python3"
    },
    "language_info": {
      "codemirror_mode": {
        "name": "ipython",
        "version": 3
      },
      "file_extension": ".py",
      "mimetype": "text/x-python",
      "name": "python",
      "nbconvert_exporter": "python",
      "pygments_lexer": "ipython3",
      "version": "3.11.9"
    },
    "colab": {
      "provenance": [],
      "include_colab_link": true
    }
  },
  "nbformat": 4,
  "nbformat_minor": 0
}